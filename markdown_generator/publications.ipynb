{
 "cells": [
  {
   "cell_type": "markdown",
   "metadata": {},
   "source": [
    "# Publications markdown generator for academicpages\n",
    "\n",
    "Takes a TSV of publications with metadata and converts them for use with [academicpages.github.io](academicpages.github.io). This is an interactive Jupyter notebook ([see more info here](http://jupyter-notebook-beginner-guide.readthedocs.io/en/latest/what_is_jupyter.html)). The core python code is also in `publications.py`. Run either from the `markdown_generator` folder after replacing `publications.tsv` with one containing your data.\n",
    "\n",
    "TODO: Make this work with BibTex and other databases of citations, rather than Stuart's non-standard TSV format and citation style.\n"
   ]
  },
  {
   "cell_type": "markdown",
   "metadata": {},
   "source": [
    "## Data format\n",
    "\n",
    "The TSV needs to have the following columns: pub_date, title, venue, excerpt, citation, site_url, and paper_url, with a header at the top. \n",
    "\n",
    "- `excerpt` and `paper_url` can be blank, but the others must have values. \n",
    "- `pub_date` must be formatted as YYYY-MM-DD.\n",
    "- `url_slug` will be the descriptive part of the .md file and the permalink URL for the page about the paper. The .md file will be `YYYY-MM-DD-[url_slug].md` and the permalink will be `https://[yourdomain]/publications/YYYY-MM-DD-[url_slug]`\n",
    "\n",
    "This is how the raw file looks (it doesn't look pretty, use a spreadsheet or other program to edit and create)."
   ]
  },
  {
   "cell_type": "code",
   "execution_count": 8,
   "metadata": {},
   "outputs": [
    {
     "name": "stdout",
     "output_type": "stream",
     "text": [
      "pub_date\ttitle\tvenue\texcerpt\tcitation\turl_slug\tpaper_url\n",
      "2019-01-01\tSerials and Continuing Resources\tK. A. Edwards and M. Leonard (Eds.), Assessment Strategies in Technical Services (pp.109-154)\tThis chapter is about the assessment of journals in academic libraries.\tCalvert, K.R, and Jordan, W.J. (2019). \"Serials and Continuing Resources.\" In K. A. Edwards and M. Leonard (Eds.), <i>Assessment Strategies in Technical Services</i>. (pp. 109-154). Chicago, IL: ALA Editions.\tpaper-title-number-1\thttp://academicpages.github.io/files/paper1.pdf\n",
      "2018-01-01\tCollaborative leadership: cultivating an environment for success\tCollaborative Librarianship\tThis paper is about collaboration and leadership.\tCalvert, K.R. (2018). \"Collaborative leadership: cultivating an environment for success.\" <i>Collaborative Librarianship</i>. 2(4).\tpaper-title-number-2\thttps://digitalcommons.du.edu/collaborativelibrarianship/vol10/iss2/4/ \n",
      "2015-01-01\tMaximizing academic library collections: Measuring changes in use patterns owing to EBSCO Discovery Service.\tCollege \"&\" Research Libraries\tThis paper is about the number 3. The number 4 is left for future work.\tCalvert, K.R. (2015). \"Maximizing academic library collections: Measuring changes in use patterns owing to EBSCO Discovery Service.\" <i>College \"&\" Research Libraries</i>. 76(1).\tpaper-title-number-3\tMaximizing academic library collections: Measuring changes in use patterns owing to EBSCO Discovery Service\n"
     ]
    }
   ],
   "source": [
    "!type publications.tsv"
   ]
  },
  {
   "cell_type": "markdown",
   "metadata": {},
   "source": [
    "## Import pandas\n",
    "\n",
    "We are using the very handy pandas library for dataframes."
   ]
  },
  {
   "cell_type": "code",
   "execution_count": 2,
   "metadata": {},
   "outputs": [],
   "source": [
    "import pandas as pd"
   ]
  },
  {
   "cell_type": "markdown",
   "metadata": {},
   "source": [
    "## Import TSV\n",
    "\n",
    "Pandas makes this easy with the read_csv function. We are using a TSV, so we specify the separator as a tab, or `\\t`.\n",
    "\n",
    "I found it important to put this data in a tab-separated values format, because there are a lot of commas in this kind of data and comma-separated values can get messed up. However, you can modify the import statement, as pandas also has read_excel(), read_json(), and others."
   ]
  },
  {
   "cell_type": "code",
   "execution_count": 3,
   "metadata": {},
   "outputs": [
    {
     "data": {
      "text/html": [
       "<div>\n",
       "<style scoped>\n",
       "    .dataframe tbody tr th:only-of-type {\n",
       "        vertical-align: middle;\n",
       "    }\n",
       "\n",
       "    .dataframe tbody tr th {\n",
       "        vertical-align: top;\n",
       "    }\n",
       "\n",
       "    .dataframe thead th {\n",
       "        text-align: right;\n",
       "    }\n",
       "</style>\n",
       "<table border=\"1\" class=\"dataframe\">\n",
       "  <thead>\n",
       "    <tr style=\"text-align: right;\">\n",
       "      <th></th>\n",
       "      <th>pub_date</th>\n",
       "      <th>title</th>\n",
       "      <th>venue</th>\n",
       "      <th>excerpt</th>\n",
       "      <th>citation</th>\n",
       "      <th>url_slug</th>\n",
       "      <th>paper_url</th>\n",
       "    </tr>\n",
       "  </thead>\n",
       "  <tbody>\n",
       "    <tr>\n",
       "      <th>0</th>\n",
       "      <td>2019-01-01</td>\n",
       "      <td>Serials and Continuing Resources</td>\n",
       "      <td>K. A. Edwards &amp; M. Leonard (Eds.), Assessment ...</td>\n",
       "      <td>This chapter is about the assessment of journa...</td>\n",
       "      <td>Calvert, K.R, &amp; Jordan, W.J. (2019). \"Serials ...</td>\n",
       "      <td>paper-title-number-1</td>\n",
       "      <td>http://libres.uncg.edu/ir/wcu/listing.aspx?id=...</td>\n",
       "    </tr>\n",
       "    <tr>\n",
       "      <th>1</th>\n",
       "      <td>2018-01-01</td>\n",
       "      <td>Collaborative leadership: cultivating an envir...</td>\n",
       "      <td>Collaborative Librarianship</td>\n",
       "      <td>This paper is about collaboration and leadership.</td>\n",
       "      <td>Calvert, K.R. (2018). \"Collaborative leadershi...</td>\n",
       "      <td>paper-title-number-2</td>\n",
       "      <td>https://digitalcommons.du.edu/collaborativelib...</td>\n",
       "    </tr>\n",
       "    <tr>\n",
       "      <th>2</th>\n",
       "      <td>2015-01-01</td>\n",
       "      <td>Maximizing academic library collections: Measu...</td>\n",
       "      <td>College &amp; Research Libraries</td>\n",
       "      <td>This paper is about the number 3. The number 4...</td>\n",
       "      <td>Calvert, K.R. (2015). \"Maximizing academic lib...</td>\n",
       "      <td>paper-title-number-3</td>\n",
       "      <td>http://crl.acrl.org/content/76/1/81.full.pdf+html</td>\n",
       "    </tr>\n",
       "    <tr>\n",
       "      <th>3</th>\n",
       "      <td>2020-01-01</td>\n",
       "      <td>Closing the Loop on Collections Review</td>\n",
       "      <td>Serials Review</td>\n",
       "      <td>This paper is about the number 3. The number 4...</td>\n",
       "      <td>Calvert, K. &amp; W.P. Jordan. (2020) Closing the ...</td>\n",
       "      <td>paper-title-number-4</td>\n",
       "      <td>https://doi.org/10.1080/00987913.2020.1806647</td>\n",
       "    </tr>\n",
       "    <tr>\n",
       "      <th>4</th>\n",
       "      <td>2013-01-01</td>\n",
       "      <td>Is ILL enough? Examining ILL demand after jour...</td>\n",
       "      <td>Proceedings of the Charleston Library Conference</td>\n",
       "      <td>This paper is about the number 3. The number 4...</td>\n",
       "      <td>Calvert, K.R, Gee, W., Malliett, J., &amp; Fleming...</td>\n",
       "      <td>paper-title-number-5</td>\n",
       "      <td>http://dx.doi.org/10.5703/1288284315297</td>\n",
       "    </tr>\n",
       "    <tr>\n",
       "      <th>5</th>\n",
       "      <td>2013-01-01</td>\n",
       "      <td>Impact of journal cancellations on interlibrar...</td>\n",
       "      <td>Serials Review</td>\n",
       "      <td>This paper is about the number 3. The number 4...</td>\n",
       "      <td>Fleming, R., Calvert, K., &amp; Hill, K. (2013). I...</td>\n",
       "      <td>paper-title-number-6</td>\n",
       "      <td>http://dx.doi.org/10.1080/00987913.2013.10766391</td>\n",
       "    </tr>\n",
       "    <tr>\n",
       "      <th>6</th>\n",
       "      <td>2013-01-01</td>\n",
       "      <td>Starting from scratch on perpetual access</td>\n",
       "      <td>Serials Librarian</td>\n",
       "      <td>This paper is about the number 3. The number 4...</td>\n",
       "      <td>Calvert, K. (2013). Starting from scratch on p...</td>\n",
       "      <td>paper-title-number-7</td>\n",
       "      <td>http://dx.doi.org/10.1080/0361526X.2013.800464</td>\n",
       "    </tr>\n",
       "    <tr>\n",
       "      <th>7</th>\n",
       "      <td>2012-01-01</td>\n",
       "      <td>Giving them what they want: Providing informat...</td>\n",
       "      <td>Proceedings of the Charleston Library Conference</td>\n",
       "      <td>This paper is about the number 3. The number 4...</td>\n",
       "      <td>Calvert, K., &amp; Fleming, R. (2012). Giving them...</td>\n",
       "      <td>paper-title-number-8</td>\n",
       "      <td>http://dx.doi.org/10.5703/1288284314933</td>\n",
       "    </tr>\n",
       "  </tbody>\n",
       "</table>\n",
       "</div>"
      ],
      "text/plain": [
       "     pub_date                                              title  \\\n",
       "0  2019-01-01                   Serials and Continuing Resources   \n",
       "1  2018-01-01  Collaborative leadership: cultivating an envir...   \n",
       "2  2015-01-01  Maximizing academic library collections: Measu...   \n",
       "3  2020-01-01             Closing the Loop on Collections Review   \n",
       "4  2013-01-01  Is ILL enough? Examining ILL demand after jour...   \n",
       "5  2013-01-01  Impact of journal cancellations on interlibrar...   \n",
       "6  2013-01-01          Starting from scratch on perpetual access   \n",
       "7  2012-01-01  Giving them what they want: Providing informat...   \n",
       "\n",
       "                                               venue  \\\n",
       "0  K. A. Edwards & M. Leonard (Eds.), Assessment ...   \n",
       "1                        Collaborative Librarianship   \n",
       "2                       College & Research Libraries   \n",
       "3                                     Serials Review   \n",
       "4   Proceedings of the Charleston Library Conference   \n",
       "5                                     Serials Review   \n",
       "6                                  Serials Librarian   \n",
       "7   Proceedings of the Charleston Library Conference   \n",
       "\n",
       "                                             excerpt  \\\n",
       "0  This chapter is about the assessment of journa...   \n",
       "1  This paper is about collaboration and leadership.   \n",
       "2  This paper is about the number 3. The number 4...   \n",
       "3  This paper is about the number 3. The number 4...   \n",
       "4  This paper is about the number 3. The number 4...   \n",
       "5  This paper is about the number 3. The number 4...   \n",
       "6  This paper is about the number 3. The number 4...   \n",
       "7  This paper is about the number 3. The number 4...   \n",
       "\n",
       "                                            citation              url_slug  \\\n",
       "0  Calvert, K.R, & Jordan, W.J. (2019). \"Serials ...  paper-title-number-1   \n",
       "1  Calvert, K.R. (2018). \"Collaborative leadershi...  paper-title-number-2   \n",
       "2  Calvert, K.R. (2015). \"Maximizing academic lib...  paper-title-number-3   \n",
       "3  Calvert, K. & W.P. Jordan. (2020) Closing the ...  paper-title-number-4   \n",
       "4  Calvert, K.R, Gee, W., Malliett, J., & Fleming...  paper-title-number-5   \n",
       "5  Fleming, R., Calvert, K., & Hill, K. (2013). I...  paper-title-number-6   \n",
       "6  Calvert, K. (2013). Starting from scratch on p...  paper-title-number-7   \n",
       "7  Calvert, K., & Fleming, R. (2012). Giving them...  paper-title-number-8   \n",
       "\n",
       "                                           paper_url  \n",
       "0  http://libres.uncg.edu/ir/wcu/listing.aspx?id=...  \n",
       "1  https://digitalcommons.du.edu/collaborativelib...  \n",
       "2  http://crl.acrl.org/content/76/1/81.full.pdf+html  \n",
       "3      https://doi.org/10.1080/00987913.2020.1806647  \n",
       "4            http://dx.doi.org/10.5703/1288284315297  \n",
       "5   http://dx.doi.org/10.1080/00987913.2013.10766391  \n",
       "6     http://dx.doi.org/10.1080/0361526X.2013.800464  \n",
       "7            http://dx.doi.org/10.5703/1288284314933  "
      ]
     },
     "execution_count": 3,
     "metadata": {},
     "output_type": "execute_result"
    }
   ],
   "source": [
    "publications = pd.read_csv(\"publications.tsv\", sep=\"\\t\", header=0)\n",
    "publications\n"
   ]
  },
  {
   "cell_type": "markdown",
   "metadata": {},
   "source": [
    "## Escape special characters\n",
    "\n",
    "YAML is very picky about how it takes a valid string, so we are replacing single and double quotes (and ampersands) with their HTML encoded equivilents. This makes them look not so readable in raw format, but they are parsed and rendered nicely."
   ]
  },
  {
   "cell_type": "code",
   "execution_count": 4,
   "metadata": {},
   "outputs": [],
   "source": [
    "html_escape_table = {\n",
    "    \"&\": \"&amp;\",\n",
    "    '\"': \"&quot;\",\n",
    "    \"'\": \"&apos;\"\n",
    "    }\n",
    "\n",
    "def html_escape(text):\n",
    "    \"\"\"Produce entities within text.\"\"\"\n",
    "    return \"\".join(html_escape_table.get(c,c) for c in text)"
   ]
  },
  {
   "cell_type": "markdown",
   "metadata": {},
   "source": [
    "## Creating the markdown files\n",
    "\n",
    "This is where the heavy lifting is done. This loops through all the rows in the TSV dataframe, then starts to concatentate a big string (```md```) that contains the markdown for each type. It does the YAML metadata first, then does the description for the individual page."
   ]
  },
  {
   "cell_type": "code",
   "execution_count": 5,
   "metadata": {},
   "outputs": [],
   "source": [
    "import os\n",
    "for row, item in publications.iterrows():\n",
    "    \n",
    "    md_filename = str(item.pub_date) + \"-\" + item.url_slug + \".md\"\n",
    "    html_filename = str(item.pub_date) + \"-\" + item.url_slug\n",
    "    year = item.pub_date[:4]\n",
    "    \n",
    "    ## YAML variables\n",
    "    \n",
    "    md = \"---\\ntitle: \\\"\"   + item.title + '\"\\n'\n",
    "    \n",
    "    md += \"\"\"collection: publications\"\"\"\n",
    "    \n",
    "    md += \"\"\"\\npermalink: /publication/\"\"\" + html_filename\n",
    "    \n",
    "    if len(str(item.excerpt)) > 5:\n",
    "        md += \"\\nexcerpt: '\" + html_escape(item.excerpt) + \"'\"\n",
    "    \n",
    "    md += \"\\ndate: \" + str(item.pub_date) \n",
    "    \n",
    "    md += \"\\nvenue: '\" + html_escape(item.venue) + \"'\"\n",
    "    \n",
    "    if len(str(item.paper_url)) > 5:\n",
    "        md += \"\\npaperurl: '\" + item.paper_url + \"'\"\n",
    "    \n",
    "    md += \"\\ncitation: '\" + html_escape(item.citation) + \"'\"\n",
    "    \n",
    "    md += \"\\n---\"\n",
    "    \n",
    "    ## Markdown description for individual page\n",
    "        \n",
    "    if len(str(item.excerpt)) > 5:\n",
    "        md += \"\\n\" + html_escape(item.excerpt) + \"\\n\"\n",
    "    \n",
    "    if len(str(item.paper_url)) > 5:\n",
    "        md += \"\\n[Download paper here](\" + item.paper_url + \")\\n\" \n",
    "        \n",
    "    md += \"\\nRecommended citation: \" + item.citation\n",
    "    \n",
    "    md_filename = os.path.basename(md_filename)\n",
    "       \n",
    "    with open(\"../_publications/\" + md_filename, 'w') as f:\n",
    "        f.write(md)"
   ]
  },
  {
   "cell_type": "markdown",
   "metadata": {},
   "source": [
    "These files are in the publications directory, one directory below where we're working from."
   ]
  },
  {
   "cell_type": "code",
   "execution_count": 19,
   "metadata": {},
   "outputs": [
    {
     "name": "stderr",
     "output_type": "stream",
     "text": [
      "Invalid switch - \"_publications\".\n"
     ]
    }
   ],
   "source": [
    "!dir ../_publications/"
   ]
  },
  {
   "cell_type": "code",
   "execution_count": 15,
   "metadata": {},
   "outputs": [
    {
     "name": "stderr",
     "output_type": "stream",
     "text": [
      "The syntax of the command is incorrect.\n"
     ]
    }
   ],
   "source": [
    "!type ../_publications/2009-10-01-paper-title-number-1.md"
   ]
  },
  {
   "cell_type": "code",
   "execution_count": null,
   "metadata": {},
   "outputs": [],
   "source": []
  }
 ],
 "metadata": {
  "kernelspec": {
   "display_name": "Python 3",
   "language": "python",
   "name": "python3"
  },
  "language_info": {
   "codemirror_mode": {
    "name": "ipython",
    "version": 3
   },
   "file_extension": ".py",
   "mimetype": "text/x-python",
   "name": "python",
   "nbconvert_exporter": "python",
   "pygments_lexer": "ipython3",
   "version": "3.8.5"
  }
 },
 "nbformat": 4,
 "nbformat_minor": 1
}
